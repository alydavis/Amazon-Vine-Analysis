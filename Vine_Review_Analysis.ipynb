{
  "nbformat": 4,
  "nbformat_minor": 0,
  "metadata": {
    "colab": {
      "provenance": [],
      "collapsed_sections": []
    },
    "kernelspec": {
      "name": "python3",
      "display_name": "Python 3"
    },
    "language_info": {
      "name": "python"
    }
  },
  "cells": [
    {
      "cell_type": "code",
      "execution_count": 1,
      "metadata": {
        "colab": {
          "base_uri": "https://localhost:8080/"
        },
        "id": "Akt7kN3wYRvF",
        "outputId": "b6d98233-c64d-4745-a1fe-ade5b3d899e7"
      },
      "outputs": [
        {
          "output_type": "stream",
          "name": "stdout",
          "text": [
            "\r0% [Working]\r            \rGet:1 http://security.ubuntu.com/ubuntu bionic-security InRelease [88.7 kB]\n",
            "Get:2 https://cloud.r-project.org/bin/linux/ubuntu bionic-cran40/ InRelease [3,626 B]\n",
            "Ign:3 https://developer.download.nvidia.com/compute/machine-learning/repos/ubuntu1804/x86_64  InRelease\n",
            "Hit:4 https://developer.download.nvidia.com/compute/cuda/repos/ubuntu1804/x86_64  InRelease\n",
            "Hit:5 https://developer.download.nvidia.com/compute/machine-learning/repos/ubuntu1804/x86_64  Release\n",
            "Hit:6 http://ppa.launchpad.net/c2d4u.team/c2d4u4.0+/ubuntu bionic InRelease\n",
            "Hit:7 http://archive.ubuntu.com/ubuntu bionic InRelease\n",
            "Get:8 http://archive.ubuntu.com/ubuntu bionic-updates InRelease [88.7 kB]\n",
            "Hit:9 http://ppa.launchpad.net/cran/libgit2/ubuntu bionic InRelease\n",
            "Hit:10 http://ppa.launchpad.net/deadsnakes/ppa/ubuntu bionic InRelease\n",
            "Get:11 http://archive.ubuntu.com/ubuntu bionic-backports InRelease [74.6 kB]\n",
            "Hit:12 http://ppa.launchpad.net/graphics-drivers/ppa/ubuntu bionic InRelease\n",
            "Get:13 http://security.ubuntu.com/ubuntu bionic-security/universe amd64 Packages [1,540 kB]\n",
            "Get:14 http://security.ubuntu.com/ubuntu bionic-security/main amd64 Packages [2,965 kB]\n",
            "Get:16 http://archive.ubuntu.com/ubuntu bionic-updates/universe amd64 Packages [2,318 kB]\n",
            "Get:17 http://archive.ubuntu.com/ubuntu bionic-updates/main amd64 Packages [3,397 kB]\n",
            "Fetched 10.5 MB in 5s (1,986 kB/s)\n",
            "Reading package lists... Done\n"
          ]
        }
      ],
      "source": [
        "import os\n",
        "# Find the latest version of spark 3.0 from http://www.apache.org/dist/spark/ and enter as the spark version\n",
        "# For example:\n",
        "# spark_version = 'spark-3.2.2'\n",
        "spark_version = 'spark-3.2.2'\n",
        "os.environ['SPARK_VERSION']=spark_version\n",
        "\n",
        "# Install Spark and Java\n",
        "!apt-get update\n",
        "!apt-get install openjdk-11-jdk-headless -qq > /dev/null\n",
        "!wget -q http://www.apache.org/dist/spark/$SPARK_VERSION/$SPARK_VERSION-bin-hadoop2.7.tgz\n",
        "!tar xf $SPARK_VERSION-bin-hadoop2.7.tgz\n",
        "!pip install -q findspark\n",
        "\n",
        "# Set Environment Variables\n",
        "import os\n",
        "os.environ[\"JAVA_HOME\"] = \"/usr/lib/jvm/java-11-openjdk-amd64\"\n",
        "os.environ[\"SPARK_HOME\"] = f\"/content/{spark_version}-bin-hadoop2.7\"\n",
        "\n",
        "# Start a SparkSession\n",
        "import findspark\n",
        "findspark.init()"
      ]
    },
    {
      "cell_type": "code",
      "source": [
        "from pyspark.sql import SparkSession\n",
        "spark = SparkSession.builder.appName(\"M16-Amazon-Challenge-Del2\").config(\"spark.driver.extraClassPath\",\"/content/postgresql-42.2.16.jar\").getOrCreate()"
      ],
      "metadata": {
        "id": "IWQMG0dkZnIt"
      },
      "execution_count": 2,
      "outputs": []
    },
    {
      "cell_type": "code",
      "source": [
        "from pyspark import SparkFiles\n",
        "url = \"https://s3.amazonaws.com/amazon-reviews-pds/tsv/amazon_reviews_us_Books_v1_00.tsv.gz\"\n",
        "spark.sparkContext.addFile(url)\n",
        "df = spark.read.option(\"encoding\", \"UTF-8\").csv(SparkFiles.get(\"\"), sep=\"\\t\", header=True, inferSchema=True)\n",
        "df.show()"
      ],
      "metadata": {
        "colab": {
          "base_uri": "https://localhost:8080/"
        },
        "id": "nES6yRgxZzcj",
        "outputId": "94aecf1e-e421-43c8-9ff6-fbc4bc0ec1e7"
      },
      "execution_count": 3,
      "outputs": [
        {
          "output_type": "stream",
          "name": "stdout",
          "text": [
            "+-----------+-----------+--------------+----------+--------------+--------------------+----------------+-----------+-------------+-----------+----+-----------------+--------------------+--------------------+-----------+\n",
            "|marketplace|customer_id|     review_id|product_id|product_parent|       product_title|product_category|star_rating|helpful_votes|total_votes|vine|verified_purchase|     review_headline|         review_body|review_date|\n",
            "+-----------+-----------+--------------+----------+--------------+--------------------+----------------+-----------+-------------+-----------+----+-----------------+--------------------+--------------------+-----------+\n",
            "|         US|   25933450| RJOVP071AVAJO|0439873800|      84656342|There Was an Old ...|           Books|          5|            0|          0|   N|                Y|          Five Stars|I love it and so ...| 2015-08-31|\n",
            "|         US|    1801372|R1ORGBETCDW3AI|1623953553|     729938122|      I Saw a Friend|           Books|          5|            0|          0|   N|                Y|Please buy \"I Saw...|My wife and I ord...| 2015-08-31|\n",
            "|         US|    5782091| R7TNRFQAOUTX5|142151981X|     678139048|Black Lagoon, Vol. 6|           Books|          5|            0|          0|   N|                Y|       Shipped fast.|Great book just l...| 2015-08-31|\n",
            "|         US|   32715830|R2GANXKDIFZ6OI|014241543X|     712432151|           If I Stay|           Books|          5|            0|          0|   N|                N|          Five Stars|        So beautiful| 2015-08-31|\n",
            "|         US|   14005703|R2NYB6C3R8LVN6|1604600527|     800572372|Stars 'N Strips F...|           Books|          5|            2|          2|   N|                Y|          Five Stars|Enjoyed the autho...| 2015-08-31|\n",
            "|         US|   36205738|R13U5PBJI1H94K|0399170863|     559876774|            The Liar|           Books|          2|            1|          1|   N|                N|PREDICTABLE ALMOS...|Two or three page...| 2015-08-31|\n",
            "|         US|   44121167|R1H8UVH990F8VE|1517007240|     299984591|Devil in the Deta...|           Books|          5|            2|          2|   N|                N|The Monastery Mur...|&#34;Secrets in t...| 2015-08-31|\n",
            "|         US|   16519255|R2MC0N30WZMRQ5|0671728725|     821650353|Knowing When to S...|           Books|          5|            0|          0|   N|                Y|          Five Stars|          I love it!| 2015-08-31|\n",
            "|         US|   49361350| R2NO2HXK16Y4J|1111349533|     419457767|The American Pageant|           Books|          5|            0|          0|   N|                Y|          Five Stars|It was a great pu...| 2015-08-31|\n",
            "|         US|   11423253|R245YIAVJK82ZL|812211637X|     285887177|Punjabi C.L. Bibl...|           Books|          5|            0|          0|   N|                Y|          Five Stars|Quality product f...| 2015-08-31|\n",
            "|         US|   37536260| RFBMLBWQOZ1UM|0679413359|      58983679|The Aeneid (Every...|           Books|          5|            0|          0|   N|                Y|          Five Stars|          Very happy| 2015-08-31|\n",
            "|         US|   23614950| RHE1FEWV3KTQH|0983990662|     222024699|The YMCA of Middl...|           Books|          5|            0|          0|   N|                Y|Great history boo...|Love reading all ...| 2015-08-31|\n",
            "|         US|   12641855|R2BB9U7PHO7ETO|156852062X|     388128348|Memoirs By Harry ...|           Books|          5|            0|          1|   N|                Y|          Five Stars|such a great purc...| 2015-08-31|\n",
            "|         US|   36327169|R28XJJP754GYXO|B0007E4WJ4|     842975364|Arms of our fight...|           Books|          4|            0|          0|   N|                Y|          Four Stars|book was fine Tha...| 2015-08-31|\n",
            "|         US|   49735028|R2G519UREHRO8M|0664254969|     248307276|Presbyterian Cree...|           Books|          3|            0|          1|   N|                Y|The Presbyterian ...|The Presbyterian ...| 2015-08-31|\n",
            "|         US|   39348901| RPBKCEIN3UISD|1570913722|       9340721|Hello Ocean/Hola mar|           Books|          5|            0|          0|   N|                Y|          Five Stars|beautiful work an...| 2015-08-31|\n",
            "|         US|    5782091|R2DOB8482VGJ8W|0345313860|     630892090|The Vampire Lesta...|           Books|          5|            0|          0|   N|                Y|       Shipped fast.|This is my favori...| 2015-08-31|\n",
            "|         US|   30063158|R2XKOET5M8W36S|0670025593|     479521754|The Book of Life ...|           Books|          5|            0|          0|   N|                Y|One of my favorites!|Love Deborah Harn...| 2015-08-31|\n",
            "|         US|     125518|R377BCSTZ4D2QP|161893158X|     399670838|Disney Descendant...|           Books|          5|            1|          1|   N|                Y|... has all three...|Now my daughter h...| 2015-08-31|\n",
            "|         US|   22297413|R3A39XZ5SB97MK|007179512X|      47243107|CompTIA A+ Certif...|           Books|          5|            0|          0|   N|                Y|He said it has be...|Bought this book ...| 2015-08-31|\n",
            "+-----------+-----------+--------------+----------+--------------+--------------------+----------------+-----------+-------------+-----------+----+-----------------+--------------------+--------------------+-----------+\n",
            "only showing top 20 rows\n",
            "\n"
          ]
        }
      ]
    },
    {
      "cell_type": "code",
      "source": [
        "# Filter the data to retrieve all the rows where the total_votes count is equal to or greater than 20\n",
        "total_votes_df = df.filter(\"total_votes >= 20\")\n",
        "total_votes_df.show()"
      ],
      "metadata": {
        "colab": {
          "base_uri": "https://localhost:8080/"
        },
        "id": "UZqdCJytaAPJ",
        "outputId": "a048e538-df10-4241-a41d-b27e315099ff"
      },
      "execution_count": 4,
      "outputs": [
        {
          "output_type": "stream",
          "name": "stdout",
          "text": [
            "+-----------+-----------+--------------+----------+--------------+--------------------+----------------+-----------+-------------+-----------+----+-----------------+--------------------+--------------------+-----------+\n",
            "|marketplace|customer_id|     review_id|product_id|product_parent|       product_title|product_category|star_rating|helpful_votes|total_votes|vine|verified_purchase|     review_headline|         review_body|review_date|\n",
            "+-----------+-----------+--------------+----------+--------------+--------------------+----------------+-----------+-------------+-----------+----+-----------------+--------------------+--------------------+-----------+\n",
            "|         US|   51227971|R3T6LR4H11XRAN|1585422959|     173554198|Parenting from th...|           Books|          5|           26|         26|   N|                Y|A MUST READ FOR A...|The reviewers tha...| 2015-08-31|\n",
            "|         US|   53083708|R3QFNFMFWOQIBO|1619020653|     277126951|Jesus Land: A Memoir|           Books|          3|           15|         25|   N|                Y|Generally Honest ...|I think I’m well-...| 2015-08-31|\n",
            "|         US|   45450113|R24S2SV0ZIFIMV|0812993543|     851108860|Between the World...|           Books|          1|           41|         78|   N|                N|Coate wrote he ha...|Coate's book is a...| 2015-08-31|\n",
            "|         US|   42839219|R2QAPWF1M5863L|1780994710|     394046652|Toxic World, Toxi...|           Books|          1|            5|         23|   N|                N|Lots of mad advic...|Dr leen is right ...| 2015-08-31|\n",
            "|         US|   26886273|R3OCONKYE1A047|0801448719|     355607328|Weapons of Mass M...|           Books|          5|           33|         38|   N|                N|An excellent book...|An excellent book...| 2015-08-31|\n",
            "|         US|   36000248|R28WZIA84DUP6C|1781688745|     960159243|The WikiLeaks Fil...|           Books|          2|            4|         43|   N|                N|       Waste of Time|J. Sausage seems ...| 2015-08-31|\n",
            "|         US|   50174173|R2U7YNJZ5JHWVD|076537708X|     392931000|The Dark Forest (...|           Books|          5|           23|         25|   N|                Y|The writer's desc...|I must say I was ...| 2015-08-31|\n",
            "|         US|   44181001|R1XVYF74WCJKO3|0345545311|     475882568|The Murderer's Da...|           Books|          1|           47|         49|   N|                N|Run, do not walk,...|The review made m...| 2015-08-31|\n",
            "|         US|   53052945|R3KKWNG5VABDYC|1594631743|     410991634|Lafayette in the ...|           Books|          5|           31|         32|   Y|                N|Bringing America'...|Sarah Vowell has ...| 2015-08-31|\n",
            "|         US|    1808630|R3KK9MHFLY2BVW|160868332X|     900914871|Seven Cups of Con...|           Books|          5|           21|         22|   N|                N|I highly recommen...|I have hoped Aley...| 2015-08-31|\n",
            "|         US|   11195155|R2OEP8MGX5K370|0399171916|     395056054|Wreck This Journa...|           Books|          5|           30|         34|   N|                Y|          Five Stars|Love this book, e...| 2015-08-31|\n",
            "|         US|   15441092| RTX63ENBKWCXF|161769150X|     678550085|Everyday Fancy: 6...|           Books|          1|           28|         35|   N|                N|         Nothing New|The recipes are n...| 2015-08-31|\n",
            "|         US|   15365576|R38I0D0J8O6LB6|048680318X|     338332455|Creative Haven Mi...|           Books|          5|          101|        102|   N|                Y|Flowers, Leaves, ...|This book is fill...| 2015-08-31|\n",
            "|         US|   24552496|R16H89H2ZPISOL|0789212137|     755377711|The Expectant Fat...|           Books|          5|           66|         73|   N|                Y|No complaints, ve...|I wanted a less '...| 2015-08-31|\n",
            "|         US|   43558530|R1O92J5SV8J8G6|1612124259|     749329225|Fermented Vegetab...|           Books|          5|          100|        102|   N|                Y|Perfect starter b...|Love this book. I...| 2015-08-31|\n",
            "|         US|   50639358|R2N899RTMS7B7A|1591431719|     378883284|The Ancient Giant...|           Books|          1|           14|         20|   N|                Y|This is a mishmas...|This is a mishmas...| 2015-08-31|\n",
            "|         US|    1840284| RNRGC6W09WQM2|1593270658|     682129418|Write Great Code,...|           Books|          1|            0|         45|   N|                Y|            One Star|I Hate This Book ...| 2015-08-31|\n",
            "|         US|   12583219|R1FB2TRCTRIWWL|0375708766|     343556390|Lincoln: A Novel ...|           Books|          1|            3|         20|   N|                N|Vidal's Non-exist...|A work of fiction...| 2015-08-31|\n",
            "|         US|   19787826| RO7NYOSZ65X1T|078680825X|     433033917|          Skin Again|           Books|          1|            1|         76|   N|                N|Garbage written b...|Garbage written b...| 2015-08-31|\n",
            "|         US|   20326078|R2D9XX1FUD30NT|1438214235|     426411323|                Bang|           Books|          1|           21|        213|   N|                N|No Longer an Amaz...|I can only specul...| 2015-08-31|\n",
            "+-----------+-----------+--------------+----------+--------------+--------------------+----------------+-----------+-------------+-----------+----+-----------------+--------------------+--------------------+-----------+\n",
            "only showing top 20 rows\n",
            "\n"
          ]
        }
      ]
    },
    {
      "cell_type": "code",
      "source": [
        "# Filter the new DataFrame Step 1 to retrieve all the rows where the number of helpful_votes divided by total_votes is equal to or greater than 50%.\n",
        "total_votes_df2 = total_votes_df.filter(total_votes_df[\"helpful_votes\"] / total_votes_df[\"total_votes\"] >= 0.5)\n",
        "total_votes_df2.show()"
      ],
      "metadata": {
        "colab": {
          "base_uri": "https://localhost:8080/"
        },
        "id": "0-J3QHwbaDhz",
        "outputId": "32be0aaa-cc64-490f-dc8d-df067290819c"
      },
      "execution_count": 5,
      "outputs": [
        {
          "output_type": "stream",
          "name": "stdout",
          "text": [
            "+-----------+-----------+--------------+----------+--------------+--------------------+----------------+-----------+-------------+-----------+----+-----------------+--------------------+--------------------+-----------+\n",
            "|marketplace|customer_id|     review_id|product_id|product_parent|       product_title|product_category|star_rating|helpful_votes|total_votes|vine|verified_purchase|     review_headline|         review_body|review_date|\n",
            "+-----------+-----------+--------------+----------+--------------+--------------------+----------------+-----------+-------------+-----------+----+-----------------+--------------------+--------------------+-----------+\n",
            "|         US|   51227971|R3T6LR4H11XRAN|1585422959|     173554198|Parenting from th...|           Books|          5|           26|         26|   N|                Y|A MUST READ FOR A...|The reviewers tha...| 2015-08-31|\n",
            "|         US|   53083708|R3QFNFMFWOQIBO|1619020653|     277126951|Jesus Land: A Memoir|           Books|          3|           15|         25|   N|                Y|Generally Honest ...|I think I’m well-...| 2015-08-31|\n",
            "|         US|   45450113|R24S2SV0ZIFIMV|0812993543|     851108860|Between the World...|           Books|          1|           41|         78|   N|                N|Coate wrote he ha...|Coate's book is a...| 2015-08-31|\n",
            "|         US|   26886273|R3OCONKYE1A047|0801448719|     355607328|Weapons of Mass M...|           Books|          5|           33|         38|   N|                N|An excellent book...|An excellent book...| 2015-08-31|\n",
            "|         US|   50174173|R2U7YNJZ5JHWVD|076537708X|     392931000|The Dark Forest (...|           Books|          5|           23|         25|   N|                Y|The writer's desc...|I must say I was ...| 2015-08-31|\n",
            "|         US|   44181001|R1XVYF74WCJKO3|0345545311|     475882568|The Murderer's Da...|           Books|          1|           47|         49|   N|                N|Run, do not walk,...|The review made m...| 2015-08-31|\n",
            "|         US|   53052945|R3KKWNG5VABDYC|1594631743|     410991634|Lafayette in the ...|           Books|          5|           31|         32|   Y|                N|Bringing America'...|Sarah Vowell has ...| 2015-08-31|\n",
            "|         US|    1808630|R3KK9MHFLY2BVW|160868332X|     900914871|Seven Cups of Con...|           Books|          5|           21|         22|   N|                N|I highly recommen...|I have hoped Aley...| 2015-08-31|\n",
            "|         US|   11195155|R2OEP8MGX5K370|0399171916|     395056054|Wreck This Journa...|           Books|          5|           30|         34|   N|                Y|          Five Stars|Love this book, e...| 2015-08-31|\n",
            "|         US|   15441092| RTX63ENBKWCXF|161769150X|     678550085|Everyday Fancy: 6...|           Books|          1|           28|         35|   N|                N|         Nothing New|The recipes are n...| 2015-08-31|\n",
            "|         US|   15365576|R38I0D0J8O6LB6|048680318X|     338332455|Creative Haven Mi...|           Books|          5|          101|        102|   N|                Y|Flowers, Leaves, ...|This book is fill...| 2015-08-31|\n",
            "|         US|   24552496|R16H89H2ZPISOL|0789212137|     755377711|The Expectant Fat...|           Books|          5|           66|         73|   N|                Y|No complaints, ve...|I wanted a less '...| 2015-08-31|\n",
            "|         US|   43558530|R1O92J5SV8J8G6|1612124259|     749329225|Fermented Vegetab...|           Books|          5|          100|        102|   N|                Y|Perfect starter b...|Love this book. I...| 2015-08-31|\n",
            "|         US|   50639358|R2N899RTMS7B7A|1591431719|     378883284|The Ancient Giant...|           Books|          1|           14|         20|   N|                Y|This is a mishmas...|This is a mishmas...| 2015-08-31|\n",
            "|         US|   38646217|R2K2D1XN0J8SD5|0307719774|     414981277|Q&A a Day: 5-Year...|           Books|          4|           19|         21|   N|                Y|Fun to reflect on...|I'm on my 2nd yea...| 2015-08-31|\n",
            "|         US|   25062800| RERKINI37W6KC|0545670314|     245449872|The Hunger Games ...|           Books|          5|           28|         31|   N|                Y|             Amazing|I decided to purc...| 2015-08-31|\n",
            "|         US|   40629450| R9GDG4O1ZK10T|023117098X|     632709282|Charlie Munger: T...|           Books|          1|           71|         86|   N|                Y|          Unoriginal|Rehash of previou...| 2015-08-31|\n",
            "|         US|   38681060|R3GOLJQC9OI7D4|1512127906|     443746903|I Would Wear That...|           Books|          4|           28|         28|   N|                Y|Saori Weaving Pre...|I wanted to find ...| 2015-08-31|\n",
            "|         US|   15000356|R37RUX3TXFJN24|194378700X|     254476846|  Navy SEAL Shooting|           Books|          5|           52|         58|   N|                Y|Single Best Shoot...|&#34;I've been sh...| 2015-08-31|\n",
            "|         US|   46348885|R1ESSNVJW3N2K4|1574219952|     343564271|Good Vibes Colori...|           Books|          5|           42|         45|   N|                Y|     Makes you happy|This is one fun c...| 2015-08-31|\n",
            "+-----------+-----------+--------------+----------+--------------+--------------------+----------------+-----------+-------------+-----------+----+-----------------+--------------------+--------------------+-----------+\n",
            "only showing top 20 rows\n",
            "\n"
          ]
        }
      ]
    },
    {
      "cell_type": "code",
      "source": [
        "# Filter the DataFrame or table created in Step 2, and create a new DataFrame or table that retrieves all the rows where a review was written as part of the Vine program (paid), vine == 'Y'.\n",
        "vine_votes = total_votes_df2.filter(total_votes_df2[\"vine\"] == \"Y\")\n",
        "vine_votes.show()\n"
      ],
      "metadata": {
        "colab": {
          "base_uri": "https://localhost:8080/"
        },
        "id": "Co6gCleDaGzI",
        "outputId": "c50b257a-3c76-481b-8f0d-502bff40655b"
      },
      "execution_count": 6,
      "outputs": [
        {
          "output_type": "stream",
          "name": "stdout",
          "text": [
            "+-----------+-----------+--------------+----------+--------------+--------------------+----------------+-----------+-------------+-----------+----+-----------------+--------------------+--------------------+-----------+\n",
            "|marketplace|customer_id|     review_id|product_id|product_parent|       product_title|product_category|star_rating|helpful_votes|total_votes|vine|verified_purchase|     review_headline|         review_body|review_date|\n",
            "+-----------+-----------+--------------+----------+--------------+--------------------+----------------+-----------+-------------+-----------+----+-----------------+--------------------+--------------------+-----------+\n",
            "|         US|   53052945|R3KKWNG5VABDYC|1594631743|     410991634|Lafayette in the ...|           Books|          5|           31|         32|   Y|                N|Bringing America'...|Sarah Vowell has ...| 2015-08-31|\n",
            "|         US|   38666248|R397PIJYYVJ7PD|0385537565|     114223774|Empire of Self: A...|           Books|          4|           31|         32|   Y|                N|The essential, if...|The publisher des...| 2015-08-31|\n",
            "|         US|   47979532| RP6Y2CTIFUYD0|1250081483|     708929563|Maggie Smith: A B...|           Books|          2|           31|         32|   Y|                N|Great For Student...|I'm a BIG fan of ...| 2015-08-31|\n",
            "|         US|   52545721|R1FYRNM5U0S2VZ|0807046574|     454177791|The Only Woman in...|           Books|          3|           20|         24|   Y|                N|One Woman's Exper...|I expected to con...| 2015-08-31|\n",
            "|         US|   46877221| R1ME19UY4UNAO|1250043239|     770061878|            Crenshaw|           Books|          5|           53|         57|   Y|                N|A serious juvenil...|What can you call...| 2015-08-30|\n",
            "|         US|   52736752|R1JW7ZHT2VLT1E|0812994566|     154655797|Unfinished Busine...|           Books|          3|           40|         45|   Y|                N|A good premise dr...|“Unfinished Busin...| 2015-08-30|\n",
            "|         US|   52816353| R98UYXY43TURV|0848746392|     935823478|My Southern Journ...|           Books|          4|           46|         50|   Y|                N|A love affair wit...|A friend of mine ...| 2015-08-30|\n",
            "|         US|   52936144|R34VXM3EJDS78Z|1594634718|     892490739|Big Magic: Creati...|           Books|          3|          374|        410|   Y|                N|One creative's en...|Given the success...| 2015-08-30|\n",
            "|         US|   32277404|R1QX8UOW5JO6L0|038535228X|     941780475|The Patient's Pla...|           Books|          4|           20|         21|   Y|                N|How to help preve...|I have a friend w...| 2015-08-29|\n",
            "|         US|   51139981| R5Y5SXCRQ2GNH|1119055806|     880136769|       R For Dummies|           Books|          3|           34|         37|   Y|                N|        Not the best|I teach statistic...| 2015-08-29|\n",
            "|         US|   53043025|R2PBQNQR80F6HP|054428674X|     435009858|The Best American...|           Books|          4|           20|         20|   Y|                N|Continuing a wond...|For fifteen years...| 2015-08-29|\n",
            "|         US|   36529123|R1YI5U4BF4ZLRQ|0307451062|     524632261|The Witch of Lime...|           Books|          3|           16|         20|   Y|                N|The Great Spirit ...|In the early 1920...| 2015-08-29|\n",
            "|         US|   50666371|R1Q5ZXA44R3E76|1570619972|     697637160|Theo Chocolate: R...|           Books|          4|           28|         31|   Y|                N|  Profound chocolate|There are about 7...| 2015-08-29|\n",
            "|         US|   53043025| RCLSDAIJR6FUG|0804136696|     883209083|Superforecasting:...|           Books|          5|          113|        123|   Y|                N|This book has a 1...|Everyone wants to...| 2015-08-28|\n",
            "|         US|   40450315|R30QKO5AIO2828|1101903457|     338545603|Black Earth: The ...|           Books|          5|           17|         20|   Y|                N|A CAUTIONARY TALE...|I first came acro...| 2015-08-28|\n",
            "|         US|   46462174|R3TPSU0ZG7K5RA|1632863324|     636726352|Sweet Caress: The...|           Books|          5|           34|         37|   Y|                N|Another great nov...|Once again, Willi...| 2015-08-27|\n",
            "|         US|   50673532|R3HSQ5EH8IIUOM|1250067057|     297442062|Extreme Ownership...|           Books|          4|           49|         63|   Y|                N|Solid breakdown o...|Written by ex-Nav...| 2015-08-27|\n",
            "|         US|   36368387|R2L4DAT0DWS9P3|0151013713|     764215010|Joy: Poet, Seeker...|           Books|          4|           28|         29|   Y|                N|Astonishing and T...|In the preface of...| 2015-08-27|\n",
            "|         US|   27553219|R2TSF7WN3DY921|0307451062|     524632261|The Witch of Lime...|           Books|          5|           22|         26|   Y|                N|I have read snipp...|I chose this book...| 2015-08-27|\n",
            "|         US|   52464985|R1LY9Y3SS9JCTR|0544303180|     447830789|$2.00 a Day: Livi...|           Books|          2|           53|        100|   Y|                N|Bias and Bizarre ...|This is a rather ...| 2015-08-27|\n",
            "+-----------+-----------+--------------+----------+--------------+--------------------+----------------+-----------+-------------+-----------+----+-----------------+--------------------+--------------------+-----------+\n",
            "only showing top 20 rows\n",
            "\n"
          ]
        }
      ]
    },
    {
      "cell_type": "code",
      "source": [
        "# Repeat Step 3, but this time retrieve all the rows where the review was not part of the Vine program (unpaid), vine == 'N'.\n",
        "no_vine_votes = total_votes_df2.filter(total_votes_df2[\"vine\"] == \"N\")\n",
        "no_vine_votes.show()\n"
      ],
      "metadata": {
        "colab": {
          "base_uri": "https://localhost:8080/"
        },
        "id": "6KAxFL-SaJi0",
        "outputId": "9323fd41-c143-4b6f-ccf4-a7e9ca40e6d0"
      },
      "execution_count": 7,
      "outputs": [
        {
          "output_type": "stream",
          "name": "stdout",
          "text": [
            "+-----------+-----------+--------------+----------+--------------+--------------------+----------------+-----------+-------------+-----------+----+-----------------+--------------------+--------------------+-----------+\n",
            "|marketplace|customer_id|     review_id|product_id|product_parent|       product_title|product_category|star_rating|helpful_votes|total_votes|vine|verified_purchase|     review_headline|         review_body|review_date|\n",
            "+-----------+-----------+--------------+----------+--------------+--------------------+----------------+-----------+-------------+-----------+----+-----------------+--------------------+--------------------+-----------+\n",
            "|         US|   51227971|R3T6LR4H11XRAN|1585422959|     173554198|Parenting from th...|           Books|          5|           26|         26|   N|                Y|A MUST READ FOR A...|The reviewers tha...| 2015-08-31|\n",
            "|         US|   53083708|R3QFNFMFWOQIBO|1619020653|     277126951|Jesus Land: A Memoir|           Books|          3|           15|         25|   N|                Y|Generally Honest ...|I think I’m well-...| 2015-08-31|\n",
            "|         US|   45450113|R24S2SV0ZIFIMV|0812993543|     851108860|Between the World...|           Books|          1|           41|         78|   N|                N|Coate wrote he ha...|Coate's book is a...| 2015-08-31|\n",
            "|         US|   26886273|R3OCONKYE1A047|0801448719|     355607328|Weapons of Mass M...|           Books|          5|           33|         38|   N|                N|An excellent book...|An excellent book...| 2015-08-31|\n",
            "|         US|   50174173|R2U7YNJZ5JHWVD|076537708X|     392931000|The Dark Forest (...|           Books|          5|           23|         25|   N|                Y|The writer's desc...|I must say I was ...| 2015-08-31|\n",
            "|         US|   44181001|R1XVYF74WCJKO3|0345545311|     475882568|The Murderer's Da...|           Books|          1|           47|         49|   N|                N|Run, do not walk,...|The review made m...| 2015-08-31|\n",
            "|         US|    1808630|R3KK9MHFLY2BVW|160868332X|     900914871|Seven Cups of Con...|           Books|          5|           21|         22|   N|                N|I highly recommen...|I have hoped Aley...| 2015-08-31|\n",
            "|         US|   11195155|R2OEP8MGX5K370|0399171916|     395056054|Wreck This Journa...|           Books|          5|           30|         34|   N|                Y|          Five Stars|Love this book, e...| 2015-08-31|\n",
            "|         US|   15441092| RTX63ENBKWCXF|161769150X|     678550085|Everyday Fancy: 6...|           Books|          1|           28|         35|   N|                N|         Nothing New|The recipes are n...| 2015-08-31|\n",
            "|         US|   15365576|R38I0D0J8O6LB6|048680318X|     338332455|Creative Haven Mi...|           Books|          5|          101|        102|   N|                Y|Flowers, Leaves, ...|This book is fill...| 2015-08-31|\n",
            "|         US|   24552496|R16H89H2ZPISOL|0789212137|     755377711|The Expectant Fat...|           Books|          5|           66|         73|   N|                Y|No complaints, ve...|I wanted a less '...| 2015-08-31|\n",
            "|         US|   43558530|R1O92J5SV8J8G6|1612124259|     749329225|Fermented Vegetab...|           Books|          5|          100|        102|   N|                Y|Perfect starter b...|Love this book. I...| 2015-08-31|\n",
            "|         US|   50639358|R2N899RTMS7B7A|1591431719|     378883284|The Ancient Giant...|           Books|          1|           14|         20|   N|                Y|This is a mishmas...|This is a mishmas...| 2015-08-31|\n",
            "|         US|   38646217|R2K2D1XN0J8SD5|0307719774|     414981277|Q&A a Day: 5-Year...|           Books|          4|           19|         21|   N|                Y|Fun to reflect on...|I'm on my 2nd yea...| 2015-08-31|\n",
            "|         US|   25062800| RERKINI37W6KC|0545670314|     245449872|The Hunger Games ...|           Books|          5|           28|         31|   N|                Y|             Amazing|I decided to purc...| 2015-08-31|\n",
            "|         US|   40629450| R9GDG4O1ZK10T|023117098X|     632709282|Charlie Munger: T...|           Books|          1|           71|         86|   N|                Y|          Unoriginal|Rehash of previou...| 2015-08-31|\n",
            "|         US|   38681060|R3GOLJQC9OI7D4|1512127906|     443746903|I Would Wear That...|           Books|          4|           28|         28|   N|                Y|Saori Weaving Pre...|I wanted to find ...| 2015-08-31|\n",
            "|         US|   15000356|R37RUX3TXFJN24|194378700X|     254476846|  Navy SEAL Shooting|           Books|          5|           52|         58|   N|                Y|Single Best Shoot...|&#34;I've been sh...| 2015-08-31|\n",
            "|         US|   46348885|R1ESSNVJW3N2K4|1574219952|     343564271|Good Vibes Colori...|           Books|          5|           42|         45|   N|                Y|     Makes you happy|This is one fun c...| 2015-08-31|\n",
            "|         US|   22668618|R1Q1VLGAFGHLN7|161448242X|     420088003|Running on Empty:...|           Books|          2|           78|         85|   N|                Y|Not enough inform...|Over half of this...| 2015-08-31|\n",
            "+-----------+-----------+--------------+----------+--------------+--------------------+----------------+-----------+-------------+-----------+----+-----------------+--------------------+--------------------+-----------+\n",
            "only showing top 20 rows\n",
            "\n"
          ]
        }
      ]
    },
    {
      "cell_type": "code",
      "source": [
        "# Determine the total number of paid reviews\n",
        "total_paid_reviews = vine_votes.count()\n",
        "total_paid_reviews"
      ],
      "metadata": {
        "colab": {
          "base_uri": "https://localhost:8080/"
        },
        "id": "qsqeZ__2ts8e",
        "outputId": "63541aba-bd67-46a1-acf7-753bdbcf65c7"
      },
      "execution_count": 10,
      "outputs": [
        {
          "output_type": "execute_result",
          "data": {
            "text/plain": [
              "5012"
            ]
          },
          "metadata": {},
          "execution_count": 10
        }
      ]
    },
    {
      "cell_type": "code",
      "source": [
        "# Determine the total number of unpaid reviews\n",
        "total_unpaid_reviews = no_vine_votes.count()\n",
        "total_unpaid_reviews"
      ],
      "metadata": {
        "colab": {
          "base_uri": "https://localhost:8080/"
        },
        "id": "l2kxV6YOuTqb",
        "outputId": "4047e3e4-07c3-4981-ae39-d5f67937b6c4"
      },
      "execution_count": 11,
      "outputs": [
        {
          "output_type": "execute_result",
          "data": {
            "text/plain": [
              "109297"
            ]
          },
          "metadata": {},
          "execution_count": 11
        }
      ]
    },
    {
      "cell_type": "code",
      "source": [
        "# Determine the number of paid 5-star reviews\n",
        "five_star_paid_reviews = vine_votes.filter(vine_votes[\"star_rating\"]==5).count()\n",
        "five_star_paid_reviews"
      ],
      "metadata": {
        "colab": {
          "base_uri": "https://localhost:8080/"
        },
        "id": "3ANbawkSuZHV",
        "outputId": "422b1547-4337-4dd0-a79b-97e530555a18"
      },
      "execution_count": 21,
      "outputs": [
        {
          "output_type": "execute_result",
          "data": {
            "text/plain": [
              "2031"
            ]
          },
          "metadata": {},
          "execution_count": 21
        }
      ]
    },
    {
      "cell_type": "code",
      "source": [
        "# Determine the number of unpaid 5-star reviews\n",
        "five_star_unpaid_reviews = no_vine_votes.filter(no_vine_votes[\"star_rating\"]==5).count()\n",
        "five_star_unpaid_reviews"
      ],
      "metadata": {
        "colab": {
          "base_uri": "https://localhost:8080/"
        },
        "id": "rYc-gXw9uZWb",
        "outputId": "e0ccc607-210b-4bbc-e121-fe82c49877d3"
      },
      "execution_count": 19,
      "outputs": [
        {
          "output_type": "execute_result",
          "data": {
            "text/plain": [
              "49967"
            ]
          },
          "metadata": {},
          "execution_count": 19
        }
      ]
    },
    {
      "cell_type": "code",
      "source": [
        "# Determine the percentage of 5-star reviews - paid\n",
        "paid_five_star_percent = five_star_paid_reviews.count() / total_paid_reviews * 100\n",
        "paid_five_star_percent"
      ],
      "metadata": {
        "colab": {
          "base_uri": "https://localhost:8080/"
        },
        "id": "qZUpSB9TufbX",
        "outputId": "d11f1897-1927-47ed-c797-c702bfd90ade"
      },
      "execution_count": 20,
      "outputs": [
        {
          "output_type": "execute_result",
          "data": {
            "text/plain": [
              "40.52274541101357"
            ]
          },
          "metadata": {},
          "execution_count": 20
        }
      ]
    },
    {
      "cell_type": "code",
      "source": [
        "# Determine the percentage of 5-star reviews - unpaid\n",
        "unpaid_five_star_percent = five_star_unpaid_reviews / total_unpaid_reviews * 100\n",
        "unpaid_five_star_percent"
      ],
      "metadata": {
        "colab": {
          "base_uri": "https://localhost:8080/"
        },
        "id": "ux5eIorzuh_L",
        "outputId": "c6aa73b4-aadf-423d-95d3-78fefe671a2d"
      },
      "execution_count": 22,
      "outputs": [
        {
          "output_type": "execute_result",
          "data": {
            "text/plain": [
              "45.716716835777746"
            ]
          },
          "metadata": {},
          "execution_count": 22
        }
      ]
    }
  ]
}